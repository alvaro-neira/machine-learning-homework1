{
 "cells": [
  {
   "cell_type": "markdown",
   "metadata": {},
   "source": [
    "# Reducción de dimensionalidad"
   ]
  },
  {
   "cell_type": "code",
   "execution_count": 29,
   "metadata": {},
   "outputs": [],
   "source": [
    "import numpy as np\n",
    "import pandas as pd\n",
    "import sklearn.decomposition # Módulo donde encontramos el análisis de componentes principales\n",
    "import sklearn.manifold # Módulo donde encontramos el método t-Distributed Stochastic Neighbor Embedding\n",
    "import matplotlib.pyplot as plt"
   ]
  },
  {
   "cell_type": "markdown",
   "metadata": {},
   "source": [
    "Esta tarea de aprendizaje no supervisado nos permite disminuir la cantidad de variables de un conjunto de datos intentando no perder información del espacio original"
   ]
  },
  {
   "cell_type": "markdown",
   "metadata": {},
   "source": [
    "Importamos un conjunto de puntos organizados sobre una linea de inclinación de 30°"
   ]
  },
  {
   "cell_type": "markdown",
   "metadata": {},
   "source": [
    "## Análisis de componentes principales"
   ]
  },
  {
   "cell_type": "code",
   "execution_count": 30,
   "metadata": {},
   "outputs": [
    {
     "data": {
      "text/html": [
       "<div>\n",
       "<style scoped>\n",
       "    .dataframe tbody tr th:only-of-type {\n",
       "        vertical-align: middle;\n",
       "    }\n",
       "\n",
       "    .dataframe tbody tr th {\n",
       "        vertical-align: top;\n",
       "    }\n",
       "\n",
       "    .dataframe thead th {\n",
       "        text-align: right;\n",
       "    }\n",
       "</style>\n",
       "<table border=\"1\" class=\"dataframe\">\n",
       "  <thead>\n",
       "    <tr style=\"text-align: right;\">\n",
       "      <th></th>\n",
       "      <th>x</th>\n",
       "      <th>y</th>\n",
       "    </tr>\n",
       "  </thead>\n",
       "  <tbody>\n",
       "    <tr>\n",
       "      <th>0</th>\n",
       "      <td>-0.143944</td>\n",
       "      <td>-0.083106</td>\n",
       "    </tr>\n",
       "    <tr>\n",
       "      <th>1</th>\n",
       "      <td>0.644160</td>\n",
       "      <td>0.371906</td>\n",
       "    </tr>\n",
       "    <tr>\n",
       "      <th>2</th>\n",
       "      <td>0.466565</td>\n",
       "      <td>0.269372</td>\n",
       "    </tr>\n",
       "    <tr>\n",
       "      <th>3</th>\n",
       "      <td>0.054760</td>\n",
       "      <td>0.031616</td>\n",
       "    </tr>\n",
       "    <tr>\n",
       "      <th>4</th>\n",
       "      <td>-0.309486</td>\n",
       "      <td>-0.178682</td>\n",
       "    </tr>\n",
       "  </tbody>\n",
       "</table>\n",
       "</div>"
      ],
      "text/plain": [
       "          x         y\n",
       "0 -0.143944 -0.083106\n",
       "1  0.644160  0.371906\n",
       "2  0.466565  0.269372\n",
       "3  0.054760  0.031616\n",
       "4 -0.309486 -0.178682"
      ]
     },
     "execution_count": 30,
     "metadata": {},
     "output_type": "execute_result"
    }
   ],
   "source": [
    "line = pd.read_csv(\"data/line.csv\")\n",
    "line.head()"
   ]
  },
  {
   "cell_type": "code",
   "execution_count": 31,
   "metadata": {},
   "outputs": [
    {
     "data": {
      "image/png": "[encoded data removed]",
      "text/plain": [
       "<Figure size 432x288 with 1 Axes>"
      ]
     },
     "metadata": {
      "needs_background": "light"
     },
     "output_type": "display_data"
    }
   ],
   "source": [
    "plt.scatter(line.x,line.y)\n",
    "plt.ylim([-2.5,2.5])\n",
    "plt.xlim([-2.5,2.5])\n",
    "plt.show()"
   ]
  },
  {
   "cell_type": "markdown",
   "metadata": {},
   "source": [
    "El primer paso para realizar el análisis de componentes principales es centrar los datos."
   ]
  },
  {
   "cell_type": "code",
   "execution_count": 32,
   "metadata": {},
   "outputs": [],
   "source": [
    "def center(data):\n",
    "    m = np.array(line)\n",
    "    mean = m.mean(axis=0)\n",
    "    centered_m = m - mean\n",
    "    return mean, centered_m"
   ]
  },
  {
   "cell_type": "code",
   "execution_count": 33,
   "metadata": {},
   "outputs": [
    {
     "data": {
      "text/plain": [
       "(array([0.07999845, 0.04618712]),\n",
       " array([[-0.22394263, -0.12929334],\n",
       "        [ 0.56416173,  0.32571893],\n",
       "        [ 0.38656687,  0.22318449],\n",
       "        [-0.02523863, -0.01457153],\n",
       "        [-0.38948444, -0.22486895],\n",
       "        [-1.05457378, -0.60885846],\n",
       "        [-0.31361574, -0.18106613],\n",
       "        [-0.39837943, -0.23000447],\n",
       "        [-0.54610494, -0.31529384],\n",
       "        [ 1.11351001,  0.64288531],\n",
       "        [-0.54907017, -0.31700581],\n",
       "        [-0.85266729, -0.49228769],\n",
       "        [-0.87469295, -0.50500421],\n",
       "        [ 0.10817725,  0.06245616],\n",
       "        [-1.38034038, -0.79693989],\n",
       "        [ 0.4376592 ,  0.25268266],\n",
       "        [-1.18508638, -0.68420994],\n",
       "        [ 1.47502018,  0.8516033 ],\n",
       "        [-0.13975745, -0.080689  ],\n",
       "        [-0.43530936, -0.25132598],\n",
       "        [ 1.86974379,  1.07949708],\n",
       "        [-1.00740264, -0.58162419],\n",
       "        [-1.7422316 , -1.00587788],\n",
       "        [ 0.2668924 ,  0.1540904 ],\n",
       "        [ 1.119296  ,  0.64622585],\n",
       "        [ 0.54247589,  0.3131986 ],\n",
       "        [ 0.17834012,  0.10296472],\n",
       "        [ 0.6621747 ,  0.38230674],\n",
       "        [-0.02448516, -0.01413651],\n",
       "        [-0.48653417, -0.28090063],\n",
       "        [-0.31411556, -0.1813547 ],\n",
       "        [-0.61584877, -0.35556046],\n",
       "        [-0.39357003, -0.22722776],\n",
       "        [ 0.541694  ,  0.31274718],\n",
       "        [ 0.34484685,  0.19909742],\n",
       "        [ 0.63459851,  0.36638562],\n",
       "        [-0.68467442, -0.39529696],\n",
       "        [ 0.15608016,  0.09011292],\n",
       "        [-1.06850465, -0.61690144],\n",
       "        [ 0.05875559,  0.03392255],\n",
       "        [ 1.0302269 ,  0.59480178],\n",
       "        [ 0.96382801,  0.55646636],\n",
       "        [ 0.16953249,  0.09787963],\n",
       "        [-0.91078165, -0.52584003],\n",
       "        [ 0.17154936,  0.09904407],\n",
       "        [ 0.47821383,  0.27609688],\n",
       "        [-0.21844821, -0.12612113],\n",
       "        [ 0.1499763 ,  0.08658886],\n",
       "        [ 0.9230907 ,  0.53294666],\n",
       "        [ 0.4702624 ,  0.27150612],\n",
       "        [ 2.05532923,  1.18664488],\n",
       "        [-0.08921813, -0.05151011],\n",
       "        [ 0.46385506,  0.26780684],\n",
       "        [-0.27340959, -0.1578531 ],\n",
       "        [ 0.03271189,  0.01888622],\n",
       "        [-1.02119778, -0.58958881],\n",
       "        [-0.38774874, -0.22386684],\n",
       "        [ 0.48770785,  0.28157826],\n",
       "        [ 0.13078141,  0.07550668],\n",
       "        [-0.43369931, -0.25039641],\n",
       "        [ 0.91520736,  0.52839521],\n",
       "        [-1.10835228, -0.63990749],\n",
       "        [-0.48925549, -0.28247179],\n",
       "        [-0.66053906, -0.3813624 ],\n",
       "        [ 0.25765515,  0.14875727],\n",
       "        [-0.18443451, -0.10648331],\n",
       "        [ 0.23741874,  0.13707377],\n",
       "        [ 0.54526043,  0.31480626],\n",
       "        [ 1.29121727,  0.74548464],\n",
       "        [ 0.2038294 ,  0.11768096],\n",
       "        [-0.37775609, -0.21809758],\n",
       "        [ 0.21358404,  0.1233128 ],\n",
       "        [ 0.69055667,  0.39869308],\n",
       "        [-0.57549669, -0.33226317],\n",
       "        [-0.49446417, -0.28547902],\n",
       "        [-0.06842643, -0.03950602],\n",
       "        [ 0.21226419,  0.12255079],\n",
       "        [-1.26604439, -0.73095107],\n",
       "        [-0.04306597, -0.02486415],\n",
       "        [-0.04478056, -0.02585407],\n",
       "        [-0.61787808, -0.35673208],\n",
       "        [-0.41807593, -0.24137625],\n",
       "        [ 0.00703003,  0.00405879],\n",
       "        [ 0.82158318,  0.47434127],\n",
       "        [-0.10371884, -0.0598821 ],\n",
       "        [ 0.52612277,  0.30375712],\n",
       "        [-0.31272368, -0.1805511 ],\n",
       "        [ 1.07553485,  0.62096033],\n",
       "        [ 0.8944658 ,  0.51642007],\n",
       "        [ 0.85050857,  0.49104135],\n",
       "        [ 1.03372454,  0.59682114],\n",
       "        [ 0.64109348,  0.37013549],\n",
       "        [-1.85355587, -1.07015098],\n",
       "        [ 0.57472907,  0.33181998],\n",
       "        [-0.09849271, -0.05686479],\n",
       "        [ 1.46931431,  0.84830901],\n",
       "        [-0.30308226, -0.17498463],\n",
       "        [-0.04287493, -0.02475385],\n",
       "        [-1.3615001 , -0.78606245],\n",
       "        [-1.81332216, -1.04692204],\n",
       "        [ 0.21260491,  0.1227475 ],\n",
       "        [-0.53343391, -0.30797821],\n",
       "        [ 0.18062241,  0.1042824 ],\n",
       "        [-1.14688172, -0.66215247],\n",
       "        [-0.72467045, -0.41838868],\n",
       "        [ 0.00680355,  0.00392803],\n",
       "        [ 1.14583806,  0.66154991],\n",
       "        [ 1.5127435 ,  0.87338286],\n",
       "        [ 1.74423534,  1.00703475],\n",
       "        [ 0.0618229 ,  0.03569347],\n",
       "        [ 0.89173963,  0.51484612],\n",
       "        [-0.92312572, -0.53296688],\n",
       "        [ 1.11768558,  0.64529607],\n",
       "        [ 1.45453482,  0.83977607],\n",
       "        [ 1.43576946,  0.82894189],\n",
       "        [ 0.45667774,  0.26366302],\n",
       "        [-0.56645059, -0.3270404 ],\n",
       "        [ 0.96397177,  0.55654936],\n",
       "        [-0.42012071, -0.24255681],\n",
       "        [-0.21445046, -0.12381303],\n",
       "        [-0.37634907, -0.21728524],\n",
       "        [-0.13784961, -0.07958751],\n",
       "        [-0.42410266, -0.24485579],\n",
       "        [-0.09180932, -0.05300614],\n",
       "        [ 0.69509491,  0.40131324],\n",
       "        [-1.63369931, -0.94321674],\n",
       "        [-0.696711  , -0.40224628],\n",
       "        [-0.25425403, -0.14679363],\n",
       "        [ 1.50546222,  0.86917902],\n",
       "        [ 0.98882719,  0.57089965],\n",
       "        [-0.09663903, -0.05579457],\n",
       "        [ 0.94578095,  0.54604689],\n",
       "        [ 0.40203007,  0.23211217],\n",
       "        [-0.16316343, -0.09420245],\n",
       "        [ 0.3953601 ,  0.22826126],\n",
       "        [ 0.12393825,  0.07155578],\n",
       "        [ 0.40687964,  0.23491207],\n",
       "        [-0.87235824, -0.50365626],\n",
       "        [-0.50165933, -0.28963315],\n",
       "        [-1.25373907, -0.72384659],\n",
       "        [-0.42748114, -0.24680635],\n",
       "        [ 0.92830639,  0.53595795],\n",
       "        [-0.09296488, -0.0536733 ],\n",
       "        [ 0.07008726,  0.0404649 ],\n",
       "        [ 0.48308546,  0.27890952],\n",
       "        [-0.18142927, -0.10474824],\n",
       "        [ 0.71931388,  0.41529606],\n",
       "        [-0.75101644, -0.43359954],\n",
       "        [ 0.99117779,  0.57225677],\n",
       "        [ 0.29385828,  0.16965916],\n",
       "        [ 0.54032873,  0.31195894],\n",
       "        [ 0.49481491,  0.28568152],\n",
       "        [-1.22153156, -0.70525157],\n",
       "        [ 0.37988476,  0.21932657],\n",
       "        [-1.19717271, -0.69118799],\n",
       "        [ 0.8036479 ,  0.46398633],\n",
       "        [-1.25096826, -0.72224686],\n",
       "        [ 0.88734166,  0.51230695],\n",
       "        [ 0.45901723,  0.26501372],\n",
       "        [ 0.89853308,  0.51876832],\n",
       "        [-1.37624432, -0.79457503],\n",
       "        [ 0.4381024 ,  0.25293854],\n",
       "        [ 0.17245722,  0.09956822],\n",
       "        [-2.28371567, -1.31850386],\n",
       "        [-0.20535845, -0.11856375],\n",
       "        [-1.53232401, -0.88468768],\n",
       "        [ 1.08075378,  0.62397348],\n",
       "        [-1.21099207, -0.6991666 ],\n",
       "        [-0.42455161, -0.24511499],\n",
       "        [-0.74637794, -0.4309215 ],\n",
       "        [ 1.62326299,  0.93719132],\n",
       "        [-1.47092652, -0.84923982],\n",
       "        [-0.6484488 , -0.37438209],\n",
       "        [-0.93626509, -0.5405529 ],\n",
       "        [ 0.54803717,  0.31640941],\n",
       "        [ 0.26878019,  0.15518031],\n",
       "        [-0.67837654, -0.39166088],\n",
       "        [ 0.0946849 ,  0.05466635],\n",
       "        [-0.13918225, -0.08035691],\n",
       "        [ 1.13794931,  0.65699534],\n",
       "        [ 0.84928225,  0.49033334],\n",
       "        [ 0.08004178,  0.04621214],\n",
       "        [-0.92057169, -0.53149231],\n",
       "        [ 0.13078507,  0.0755088 ],\n",
       "        [-0.59036369, -0.34084663],\n",
       "        [-0.63969115, -0.36932586],\n",
       "        [-0.81546076, -0.47080649],\n",
       "        [-1.35908271, -0.78466677],\n",
       "        [-0.90002787, -0.51963133],\n",
       "        [ 0.64917927,  0.37480382],\n",
       "        [ 0.71397384,  0.41221299],\n",
       "        [ 0.75277161,  0.43461289],\n",
       "        [ 1.49730409,  0.86446892],\n",
       "        [-0.22201003, -0.12817755],\n",
       "        [-0.2504937 , -0.1446226 ],\n",
       "        [-0.35315307, -0.20389302],\n",
       "        [-0.3764115 , -0.21732128],\n",
       "        [-1.13344763, -0.65439629],\n",
       "        [ 0.16199476,  0.09352772],\n",
       "        [ 0.40014368,  0.23102306]]))"
      ]
     },
     "execution_count": 33,
     "metadata": {},
     "output_type": "execute_result"
    }
   ],
   "source": [
    "mean, c = center(line)\n",
    "mean,c"
   ]
  },
  {
   "cell_type": "markdown",
   "metadata": {},
   "source": [
    "Después de centrar los datos se debe calcular la matriz de covarianza asociada al conjunto de datos"
   ]
  },
  {
   "cell_type": "code",
   "execution_count": 34,
   "metadata": {},
   "outputs": [
    {
     "data": {
      "text/plain": [
       "array([[0.66333465, 0.38297644],\n",
       "       [0.38297644, 0.22111155]])"
      ]
     },
     "execution_count": 34,
     "metadata": {},
     "output_type": "execute_result"
    }
   ],
   "source": [
    "v = np.cov(c.T)\n",
    "v"
   ]
  },
  {
   "cell_type": "markdown",
   "metadata": {},
   "source": [
    "Finalmente se debe descomponer la matriz de covarianza para obtener los valores y vectores propios.\n",
    "\n",
    "Al tener nuestro método ajustado podemos obtener los componentes (vectores propios) de nuestro análisis. Se puede observar que el valor absoluto del primer componente es el mayor, debido a que la mayor parte de nuestro conjunto de datos original se encuenta proyectado sobre el el primer componente principal."
   ]
  },
  {
   "cell_type": "code",
   "execution_count": 35,
   "metadata": {},
   "outputs": [
    {
     "data": {
      "text/plain": [
       "(array([8.84446196e-01, 8.32667268e-17]),\n",
       " array([[ 0.8660254, -0.5      ],\n",
       "        [ 0.5      ,  0.8660254]]))"
      ]
     },
     "execution_count": 35,
     "metadata": {},
     "output_type": "execute_result"
    }
   ],
   "source": [
    "values, vectors = np.linalg.eig(v)\n",
    "values, vectors"
   ]
  },
  {
   "cell_type": "markdown",
   "metadata": {},
   "source": [
    "Al visualizar los componentes sobre nuestro espacio original se puede observar que el primer componente principal se sitúa precisamente sobe nuestra linea de puntos. El segundo componente principal es despreciable debido a que su varianza explicada es mínima."
   ]
  },
  {
   "cell_type": "code",
   "execution_count": 36,
   "metadata": {},
   "outputs": [
    {
     "data": {
      "image/png": "[encoded data removed]",
      "text/plain": [
       "<Figure size 360x360 with 1 Axes>"
      ]
     },
     "metadata": {
      "needs_background": "light"
     },
     "output_type": "display_data"
    }
   ],
   "source": [
    "plt.scatter(line.x,line.y, alpha=0.2)\n",
    "plt.ylim([-2.5,2.5])\n",
    "plt.xlim([-2.5,2.5])\n",
    "for length, vector in zip(values, vectors.T):\n",
    "    ax=plt.gca()\n",
    "    v = vector * 2 * np.sqrt(length)\n",
    "    arrowprops=dict(arrowstyle='->',\n",
    "                    linewidth=2,\n",
    "                    shrinkA=0, shrinkB=0)\n",
    "    ax.annotate('', mean + v, mean, arrowprops=arrowprops)\n",
    "\n",
    "fig = plt.gcf()\n",
    "fig.set_size_inches(5,5)"
   ]
  },
  {
   "cell_type": "markdown",
   "metadata": {},
   "source": [
    "Ahora importamos exactamente la misma linea anterior, pero a esta se le agregó ruido."
   ]
  },
  {
   "cell_type": "code",
   "execution_count": 37,
   "metadata": {},
   "outputs": [
    {
     "data": {
      "text/html": [
       "<div>\n",
       "<style scoped>\n",
       "    .dataframe tbody tr th:only-of-type {\n",
       "        vertical-align: middle;\n",
       "    }\n",
       "\n",
       "    .dataframe tbody tr th {\n",
       "        vertical-align: top;\n",
       "    }\n",
       "\n",
       "    .dataframe thead th {\n",
       "        text-align: right;\n",
       "    }\n",
       "</style>\n",
       "<table border=\"1\" class=\"dataframe\">\n",
       "  <thead>\n",
       "    <tr style=\"text-align: right;\">\n",
       "      <th></th>\n",
       "      <th>x</th>\n",
       "      <th>y</th>\n",
       "    </tr>\n",
       "  </thead>\n",
       "  <tbody>\n",
       "    <tr>\n",
       "      <th>0</th>\n",
       "      <td>-0.159395</td>\n",
       "      <td>-0.056345</td>\n",
       "    </tr>\n",
       "    <tr>\n",
       "      <th>1</th>\n",
       "      <td>0.673869</td>\n",
       "      <td>0.320449</td>\n",
       "    </tr>\n",
       "    <tr>\n",
       "      <th>2</th>\n",
       "      <td>0.484614</td>\n",
       "      <td>0.238111</td>\n",
       "    </tr>\n",
       "    <tr>\n",
       "      <th>3</th>\n",
       "      <td>0.120637</td>\n",
       "      <td>-0.082488</td>\n",
       "    </tr>\n",
       "    <tr>\n",
       "      <th>4</th>\n",
       "      <td>-0.228911</td>\n",
       "      <td>-0.318242</td>\n",
       "    </tr>\n",
       "  </tbody>\n",
       "</table>\n",
       "</div>"
      ],
      "text/plain": [
       "          x         y\n",
       "0 -0.159395 -0.056345\n",
       "1  0.673869  0.320449\n",
       "2  0.484614  0.238111\n",
       "3  0.120637 -0.082488\n",
       "4 -0.228911 -0.318242"
      ]
     },
     "execution_count": 37,
     "metadata": {},
     "output_type": "execute_result"
    }
   ],
   "source": [
    "line_noised = pd.read_csv(\"data/line_noised.csv\")\n",
    "line_noised.head()"
   ]
  },
  {
   "cell_type": "markdown",
   "metadata": {},
   "source": [
    "Ahora contamos con nuestra nube de puntos, pero hay que notar que tiene exactamente la misma inclinación que el caso anterior"
   ]
  },
  {
   "cell_type": "code",
   "execution_count": 38,
   "metadata": {},
   "outputs": [
    {
     "data": {
      "image/png": "[encoded data removed]",
      "text/plain": [
       "<Figure size 432x288 with 1 Axes>"
      ]
     },
     "metadata": {
      "needs_background": "light"
     },
     "output_type": "display_data"
    }
   ],
   "source": [
    "plt.scatter(line_noised.x,line_noised.y)\n",
    "plt.ylim([-2.5,2.5])\n",
    "plt.xlim([-2.5,2.5])\n",
    "plt.show()"
   ]
  },
  {
   "cell_type": "markdown",
   "metadata": {},
   "source": [
    "Ajustamos PCA sobre nuestra nube de puntos"
   ]
  },
  {
   "cell_type": "code",
   "execution_count": 39,
   "metadata": {},
   "outputs": [
    {
     "data": {
      "text/plain": [
       "PCA(n_components=2)"
      ]
     },
     "execution_count": 39,
     "metadata": {},
     "output_type": "execute_result"
    }
   ],
   "source": [
    "pca_line_noised = sklearn.decomposition.PCA(n_components=2)\n",
    "pca_line_noised.fit(line_noised)"
   ]
  },
  {
   "cell_type": "markdown",
   "metadata": {},
   "source": [
    "Observamos que los vectores propios son iguales a los anteriores."
   ]
  },
  {
   "cell_type": "code",
   "execution_count": 40,
   "metadata": {},
   "outputs": [
    {
     "data": {
      "text/plain": [
       "array([[-0.85937911, -0.51133898],\n",
       "       [-0.51133898,  0.85937911]])"
      ]
     },
     "execution_count": 40,
     "metadata": {},
     "output_type": "execute_result"
    }
   ],
   "source": [
    "pca_line_noised.components_"
   ]
  },
  {
   "cell_type": "markdown",
   "metadata": {},
   "source": [
    "Además el 88% de la varianza de nuestro ocnjunto de datos está explicada por el primer componente."
   ]
  },
  {
   "cell_type": "code",
   "execution_count": 41,
   "metadata": {},
   "outputs": [
    {
     "data": {
      "text/plain": [
       "array([0.88459308, 0.0342513 ])"
      ]
     },
     "execution_count": 41,
     "metadata": {},
     "output_type": "execute_result"
    }
   ],
   "source": [
    "pca_line_noised.explained_variance_"
   ]
  },
  {
   "cell_type": "markdown",
   "metadata": {},
   "source": [
    "Los vectores propios son exactamente los mismos que en el caso anterior, pero ahora el segundo componente sí nos explica varianza."
   ]
  },
  {
   "cell_type": "code",
   "execution_count": 42,
   "metadata": {},
   "outputs": [
    {
     "data": {
      "image/png": "[encoded data removed]",
      "text/plain": [
       "<Figure size 360x360 with 1 Axes>"
      ]
     },
     "metadata": {
      "needs_background": "light"
     },
     "output_type": "display_data"
    }
   ],
   "source": [
    "plt.scatter(line_noised.x,line_noised.y, alpha=0.2)\n",
    "plt.ylim([-2.5,2.5])\n",
    "plt.xlim([-2.5,2.5])\n",
    "for length, vector in zip(pca_line_noised.explained_variance_, pca_line_noised.components_):\n",
    "    v = vector * 3 * np.sqrt(length)\n",
    "    ax=plt.gca()\n",
    "    arrowprops=dict(arrowstyle='->',\n",
    "                    linewidth=2,\n",
    "                    shrinkA=0, shrinkB=0)\n",
    "    ax.annotate('', pca_line_noised.mean_ + v, pca_line_noised.mean_, arrowprops=arrowprops)\n",
    "\n",
    "fig = plt.gcf()\n",
    "fig.set_size_inches(5,5)"
   ]
  },
  {
   "cell_type": "code",
   "execution_count": 43,
   "metadata": {},
   "outputs": [
    {
     "data": {
      "text/plain": [
       "array([[-0.85937911, -0.51133898],\n",
       "       [-0.51133898,  0.85937911]])"
      ]
     },
     "execution_count": 43,
     "metadata": {},
     "output_type": "execute_result"
    }
   ],
   "source": [
    "pca_line_noised.components_"
   ]
  },
  {
   "cell_type": "markdown",
   "metadata": {},
   "source": [
    "Así extraemos el primer componente principal desde PCA."
   ]
  },
  {
   "cell_type": "code",
   "execution_count": 44,
   "metadata": {},
   "outputs": [
    {
     "data": {
      "text/plain": [
       "array([[-0.85937911, -0.51133898]])"
      ]
     },
     "execution_count": 44,
     "metadata": {},
     "output_type": "execute_result"
    }
   ],
   "source": [
    "pca_line_noised.components_[0].reshape(1,-1) # Debemos hacer reshape del componente para que siga teniendo la forma de una fila"
   ]
  },
  {
   "cell_type": "markdown",
   "metadata": {},
   "source": [
    "Proyectamos nuestro conjunto de datos sobre el primer componente a través de un producto punto."
   ]
  },
  {
   "cell_type": "code",
   "execution_count": 45,
   "metadata": {},
   "outputs": [],
   "source": [
    "line_noised_reduced = np.dot( \n",
    "    line_noised.values, \n",
    "    pca_line_noised.components_[0].reshape(1,-1).T # Debemos trasponer nuestro componente principal para realizar el producto punto\n",
    ")"
   ]
  },
  {
   "cell_type": "markdown",
   "metadata": {},
   "source": [
    "ahora nuestro conjunto de datos reducidos tiene sólo una columna."
   ]
  },
  {
   "cell_type": "code",
   "execution_count": 46,
   "metadata": {},
   "outputs": [
    {
     "data": {
      "text/plain": [
       "array([[ 0.16579193],\n",
       "       [-0.74296694],\n",
       "       [-0.53822228],\n",
       "       [-0.06149407],\n",
       "       [ 0.35945078],\n",
       "       [ 1.12917482],\n",
       "       [ 0.26836244],\n",
       "       [ 0.36697232],\n",
       "       [ 0.54100028],\n",
       "       [-1.37937048],\n",
       "       [ 0.53854007],\n",
       "       [ 0.88952878],\n",
       "       [ 0.91589936],\n",
       "       [-0.21927819],\n",
       "       [ 1.500758  ],\n",
       "       [-0.59893964],\n",
       "       [ 1.27609483],\n",
       "       [-1.79808335],\n",
       "       [ 0.06594636],\n",
       "       [ 0.40518292],\n",
       "       [-2.25247149],\n",
       "       [ 1.07526223],\n",
       "       [ 1.9214896 ],\n",
       "       [-0.40317477],\n",
       "       [-1.38661375],\n",
       "       [-0.71657911],\n",
       "       [-0.29879262],\n",
       "       [-0.85756776],\n",
       "       [-0.05946076],\n",
       "       [ 0.46699175],\n",
       "       [ 0.26860771],\n",
       "       [ 0.61602583],\n",
       "       [ 0.36123448],\n",
       "       [-0.71861418],\n",
       "       [-0.48978715],\n",
       "       [-0.82226191],\n",
       "       [ 0.69738065],\n",
       "       [-0.27301133],\n",
       "       [ 1.14002492],\n",
       "       [-0.15840394],\n",
       "       [-1.28572116],\n",
       "       [-1.20780254],\n",
       "       [-0.28763807],\n",
       "       [ 0.96046066],\n",
       "       [-0.29185852],\n",
       "       [-0.64418896],\n",
       "       [ 0.15998887],\n",
       "       [-0.2629046 ],\n",
       "       [-1.15858139],\n",
       "       [-0.63389853],\n",
       "       [-2.46987082],\n",
       "       [ 0.01129608],\n",
       "       [-0.62735498],\n",
       "       [ 0.22273343],\n",
       "       [-0.12980106],\n",
       "       [ 1.08959926],\n",
       "       [ 0.35432006],\n",
       "       [-0.65634786],\n",
       "       [-0.24536826],\n",
       "       [ 0.40998674],\n",
       "       [-1.14792123],\n",
       "       [ 1.18928168],\n",
       "       [ 0.47366093],\n",
       "       [ 0.66935699],\n",
       "       [-0.38585002],\n",
       "       [ 0.11785904],\n",
       "       [-0.36632614],\n",
       "       [-0.7219623 ],\n",
       "       [-1.58494056],\n",
       "       [-0.33047009],\n",
       "       [ 0.33910052],\n",
       "       [-0.33972037],\n",
       "       [-0.8927292 ],\n",
       "       [ 0.57124872],\n",
       "       [ 0.48032568],\n",
       "       [-0.01238975],\n",
       "       [-0.33854526],\n",
       "       [ 1.36733354],\n",
       "       [-0.04192026],\n",
       "       [-0.03976649],\n",
       "       [ 0.62620688],\n",
       "       [ 0.39126109],\n",
       "       [-0.10732841],\n",
       "       [-1.04264607],\n",
       "       [ 0.03174948],\n",
       "       [-0.69894127],\n",
       "       [ 0.27239101],\n",
       "       [-1.33018592],\n",
       "       [-1.12603449],\n",
       "       [-1.07296921],\n",
       "       [-1.28339348],\n",
       "       [-0.83426316],\n",
       "       [ 2.04447345],\n",
       "       [-0.76061551],\n",
       "       [ 0.02033971],\n",
       "       [-1.79096424],\n",
       "       [ 0.26007205],\n",
       "       [-0.04323   ],\n",
       "       [ 1.47372029],\n",
       "       [ 2.00134233],\n",
       "       [-0.33709061],\n",
       "       [ 0.52405195],\n",
       "       [-0.30249418],\n",
       "       [ 1.22827565],\n",
       "       [ 0.73908348],\n",
       "       [-0.0975092 ],\n",
       "       [-1.41725043],\n",
       "       [-1.83762447],\n",
       "       [-2.10834721],\n",
       "       [-0.16631611],\n",
       "       [-1.11967179],\n",
       "       [ 0.97642179],\n",
       "       [-1.38654576],\n",
       "       [-1.77040696],\n",
       "       [-1.74768072],\n",
       "       [-0.62024419],\n",
       "       [ 0.56324162],\n",
       "       [-1.20500128],\n",
       "       [ 0.39439136],\n",
       "       [ 0.15310422],\n",
       "       [ 0.33760575],\n",
       "       [ 0.06190716],\n",
       "       [ 0.39808211],\n",
       "       [ 0.01369552],\n",
       "       [-0.89182514],\n",
       "       [ 1.79187235],\n",
       "       [ 0.71349436],\n",
       "       [ 0.20120834],\n",
       "       [-1.82955751],\n",
       "       [-1.23804673],\n",
       "       [ 0.01682846],\n",
       "       [-1.18435483],\n",
       "       [-0.55633332],\n",
       "       [ 0.09571908],\n",
       "       [-0.54616928],\n",
       "       [-0.23466529],\n",
       "       [-0.56050499],\n",
       "       [ 0.91528061],\n",
       "       [ 0.48926714],\n",
       "       [ 1.35263622],\n",
       "       [ 0.40380682],\n",
       "       [-1.16475249],\n",
       "       [ 0.01061101],\n",
       "       [-0.17376271],\n",
       "       [-0.64843749],\n",
       "       [ 0.11941294],\n",
       "       [-0.92097282],\n",
       "       [ 0.77687317],\n",
       "       [-1.23733719],\n",
       "       [-0.43210524],\n",
       "       [-0.72047943],\n",
       "       [-0.66562324],\n",
       "       [ 1.31789604],\n",
       "       [-0.53129375],\n",
       "       [ 1.28330709],\n",
       "       [-1.01693648],\n",
       "       [ 1.35297902],\n",
       "       [-1.11762951],\n",
       "       [-0.6241883 ],\n",
       "       [-1.13148366],\n",
       "       [ 1.49359078],\n",
       "       [-0.59620611],\n",
       "       [-0.29578184],\n",
       "       [ 2.54986947],\n",
       "       [ 0.15059937],\n",
       "       [ 1.67803786],\n",
       "       [-1.34054534],\n",
       "       [ 1.30350606],\n",
       "       [ 0.39880256],\n",
       "       [ 0.76957985],\n",
       "       [-1.96544593],\n",
       "       [ 1.60857814],\n",
       "       [ 0.65334639],\n",
       "       [ 0.98550492],\n",
       "       [-0.72734267],\n",
       "       [-0.40254842],\n",
       "       [ 0.6909346 ],\n",
       "       [-0.20129417],\n",
       "       [ 0.06549919],\n",
       "       [-1.40754403],\n",
       "       [-1.07171186],\n",
       "       [-0.18459898],\n",
       "       [ 0.97526236],\n",
       "       [-0.23725108],\n",
       "       [ 0.58733406],\n",
       "       [ 0.64885519],\n",
       "       [ 0.84909467],\n",
       "       [ 1.47438683],\n",
       "       [ 0.94777022],\n",
       "       [-0.84087928],\n",
       "       [-0.91455492],\n",
       "       [-0.96578439],\n",
       "       [-1.82343198],\n",
       "       [ 0.16326036],\n",
       "       [ 0.20019368],\n",
       "       [ 0.31531794],\n",
       "       [ 0.34135831],\n",
       "       [ 1.21821197],\n",
       "       [-0.27917901],\n",
       "       [-0.55491555]])"
      ]
     },
     "execution_count": 46,
     "metadata": {},
     "output_type": "execute_result"
    }
   ],
   "source": [
    "line_noised_reduced"
   ]
  },
  {
   "cell_type": "markdown",
   "metadata": {},
   "source": [
    "Para recrear el conjunto de datos original desde el reducido debemos realizar el producto punto de nuestro conjunto de datos reducido con el primer componente principal."
   ]
  },
  {
   "cell_type": "code",
   "execution_count": 47,
   "metadata": {},
   "outputs": [],
   "source": [
    "line_noised_original = np.dot(line_noised_reduced, pca_line_noised.components_[0].reshape(1,-1))"
   ]
  },
  {
   "cell_type": "markdown",
   "metadata": {},
   "source": [
    "Ahora tenemos nuestro conjunto de datos original recreado."
   ]
  },
  {
   "cell_type": "code",
   "execution_count": 48,
   "metadata": {},
   "outputs": [
    {
     "data": {
      "text/plain": [
       "array([[-0.14247812, -0.08477588],\n",
       "       [ 0.63849026,  0.37990795],\n",
       "       [ 0.46253698,  0.27521403],\n",
       "       [ 0.05284672,  0.03144431],\n",
       "       [-0.30890449, -0.18380119],\n",
       "       [-0.97038925, -0.57739109],\n",
       "       [-0.23062508, -0.13722418],\n",
       "       [-0.31536835, -0.18764725],\n",
       "       [-0.46492434, -0.27663453],\n",
       "       [ 1.18540217,  0.70532589],\n",
       "       [-0.46281008, -0.27537653],\n",
       "       [-0.76444245, -0.45485074],\n",
       "       [-0.78710477, -0.46833504],\n",
       "       [ 0.1884431 ,  0.11212549],\n",
       "       [-1.28972007, -0.76739606],\n",
       "       [ 0.51471622,  0.30626118],\n",
       "       [-1.09664923, -0.65251702],\n",
       "       [ 1.54523527,  0.9194301 ],\n",
       "       [-0.05667292, -0.03372094],\n",
       "       [-0.34820573, -0.20718582],\n",
       "       [ 1.93572694,  1.15177646],\n",
       "       [-0.9240579 , -0.54982349],\n",
       "       [-1.65128802, -0.98253253],\n",
       "       [ 0.34647998,  0.20615898],\n",
       "       [ 1.19162689,  0.70902965],\n",
       "       [ 0.61581311,  0.36641483],\n",
       "       [ 0.25677614,  0.15278431],\n",
       "       [ 0.73697582,  0.43850782],\n",
       "       [ 0.05109934,  0.0304046 ],\n",
       "       [-0.40132295, -0.23879108],\n",
       "       [-0.23083585, -0.13734959],\n",
       "       [-0.52939973, -0.31499802],\n",
       "       [-0.31043737, -0.18471327],\n",
       "       [ 0.61756201,  0.36745544],\n",
       "       [ 0.42091284,  0.25044726],\n",
       "       [ 0.70663471,  0.42045456],\n",
       "       [-0.59931436, -0.35659791],\n",
       "       [ 0.23462024,  0.13960134],\n",
       "       [-0.9797136 , -0.58293918],\n",
       "       [ 0.13612904,  0.08099811],\n",
       "       [ 1.1049219 ,  0.65743934],\n",
       "       [ 1.03796027,  0.61759651],\n",
       "       [ 0.24719015,  0.14708056],\n",
       "       [-0.82539983, -0.49112097],\n",
       "       [ 0.25081711,  0.14923863],\n",
       "       [ 0.55360253,  0.32939892],\n",
       "       [-0.13749109, -0.08180855],\n",
       "       [ 0.22593472,  0.13443337],\n",
       "       [ 0.99566064,  0.59242782],\n",
       "       [ 0.54475915,  0.32413702],\n",
       "       [ 2.12255538,  1.26294122],\n",
       "       [-0.00970762, -0.00577613],\n",
       "       [ 0.53913576,  0.32079105],\n",
       "       [-0.19141246, -0.11389228],\n",
       "       [ 0.11154832,  0.06637234],\n",
       "       [-0.93637884, -0.55715457],\n",
       "       [-0.30449526, -0.18117766],\n",
       "       [ 0.56405164,  0.33561624],\n",
       "       [ 0.21086435,  0.12546635],\n",
       "       [-0.35233404, -0.2096422 ],\n",
       "       [ 0.98649952,  0.58697686],\n",
       "       [-1.02204383, -0.60812607],\n",
       "       [-0.40705431, -0.2422013 ],\n",
       "       [-0.57523142, -0.34226832],\n",
       "       [ 0.33159144,  0.19730015],\n",
       "       [-0.1012856 , -0.06026592],\n",
       "       [ 0.31481303,  0.18731683],\n",
       "       [ 0.62043931,  0.36916746],\n",
       "       [ 1.3620648 ,  0.81044188],\n",
       "       [ 0.28399909,  0.16898224],\n",
       "       [-0.2914159 , -0.17339531],\n",
       "       [ 0.29194859,  0.17371227],\n",
       "       [ 0.76719283,  0.45648724],\n",
       "       [-0.49091922, -0.29210174],\n",
       "       [-0.41278186, -0.24560924],\n",
       "       [ 0.01064749,  0.00633536],\n",
       "       [ 0.29093872,  0.17311139],\n",
       "       [-1.17505788, -0.69917093],\n",
       "       [ 0.0360254 ,  0.02143546],\n",
       "       [ 0.03417449,  0.02033416],\n",
       "       [-0.53814911, -0.32020398],\n",
       "       [-0.33624161, -0.20006704],\n",
       "       [ 0.09223579,  0.0548812 ],\n",
       "       [ 0.89602825,  0.53314557],\n",
       "       [-0.02728484, -0.01623475],\n",
       "       [ 0.60065553,  0.35739591],\n",
       "       [-0.23408714, -0.13928414],\n",
       "       [ 1.14313399,  0.6801759 ],\n",
       "       [ 0.96769051,  0.57578532],\n",
       "       [ 0.92208732,  0.54865098],\n",
       "       [ 1.10292154,  0.65624911],\n",
       "       [ 0.71694833,  0.42659127],\n",
       "       [-1.75697777, -1.04541896],\n",
       "       [ 0.65365708,  0.38893235],\n",
       "       [-0.01747952, -0.01040049],\n",
       "       [ 1.53911726,  0.91578982],\n",
       "       [-0.22350049, -0.13298498],\n",
       "       [ 0.03715096,  0.02210519],\n",
       "       [-1.26648443, -0.75357062],\n",
       "       [-1.71991179, -1.02336434],\n",
       "       [ 0.28968863,  0.17236757],\n",
       "       [-0.4503593 , -0.26796819],\n",
       "       [ 0.25995718,  0.15467706],\n",
       "       [-1.05555444, -0.62806521],\n",
       "       [-0.6351529 , -0.37792219],\n",
       "       [ 0.08379737,  0.04986025],\n",
       "       [ 1.21795541,  0.72469538],\n",
       "       [ 1.57921608,  0.93964901],\n",
       "       [ 1.81186955,  1.0780801 ],\n",
       "       [ 0.14292859,  0.08504391],\n",
       "       [ 0.96222255,  0.57253183],\n",
       "       [-0.83911649, -0.49928252],\n",
       "       [ 1.19156846,  0.70899489],\n",
       "       [ 1.52145075,  0.90527808],\n",
       "       [ 1.5019203 ,  0.89365727],\n",
       "       [ 0.5330249 ,  0.31715503],\n",
       "       [-0.48403808, -0.28800739],\n",
       "       [ 1.03555292,  0.61616412],\n",
       "       [-0.33893169, -0.20166767],\n",
       "       [-0.13157457, -0.07828816],\n",
       "       [-0.29013133, -0.17263098],\n",
       "       [-0.05320172, -0.03165555],\n",
       "       [-0.34210345, -0.2035549 ],\n",
       "       [-0.01176964, -0.00700305],\n",
       "       [ 0.7664159 ,  0.45602495],\n",
       "       [-1.53989766, -0.91625417],\n",
       "       [-0.61316215, -0.36483748],\n",
       "       [-0.17291425, -0.10288567],\n",
       "       [ 1.5722835 ,  0.93552406],\n",
       "       [ 1.0639515 ,  0.63306155],\n",
       "       [-0.01446202, -0.00860505],\n",
       "       [ 1.0178098 ,  0.60560679],\n",
       "       [ 0.47810123,  0.28447491],\n",
       "       [-0.08225898, -0.0489449 ],\n",
       "       [ 0.46936647,  0.27927764],\n",
       "       [ 0.20166644,  0.11999351],\n",
       "       [ 0.48168628,  0.28660805],\n",
       "       [-0.78657304, -0.46801865],\n",
       "       [-0.42046596, -0.25018136],\n",
       "       [-1.16242731, -0.69165562],\n",
       "       [-0.34702314, -0.20648216],\n",
       "       [ 1.00096396,  0.59558334],\n",
       "       [-0.00911888, -0.00542582],\n",
       "       [ 0.14932804,  0.08885164],\n",
       "       [ 0.55725363,  0.33157136],\n",
       "       [-0.10262099, -0.06106049],\n",
       "       [ 0.7914648 ,  0.4709293 ],\n",
       "       [-0.66762857, -0.39724553],\n",
       "       [ 1.06334173,  0.63269873],\n",
       "       [ 0.37134222,  0.22095225],\n",
       "       [ 0.61916497,  0.36840922],\n",
       "       [ 0.57202271,  0.34035911],\n",
       "       [-1.13257233, -0.67389161],\n",
       "       [ 0.45658275,  0.2716712 ],\n",
       "       [-1.1028473 , -0.65620493],\n",
       "       [ 0.87393396,  0.51999926],\n",
       "       [-1.16272191, -0.69183091],\n",
       "       [ 0.96046746,  0.57148753],\n",
       "       [ 0.53641439,  0.31917181],\n",
       "       [ 0.97237342,  0.57857169],\n",
       "       [-1.28356072, -0.76373118],\n",
       "       [ 0.51236707,  0.30486342],\n",
       "       [ 0.25418874,  0.15124478],\n",
       "       [-2.19130455, -1.30384764],\n",
       "       [-0.12942195, -0.07700733],\n",
       "       [-1.44207068, -0.85804616],\n",
       "       [ 1.15203666,  0.68547308],\n",
       "       [-1.12020587, -0.66653345],\n",
       "       [-0.34272259, -0.20392329],\n",
       "       [-0.66136085, -0.39351617],\n",
       "       [ 1.68906317,  1.00500911],\n",
       "       [-1.38237845, -0.8225287 ],\n",
       "       [-0.56147224, -0.33408147],\n",
       "       [-0.84692234, -0.50392707],\n",
       "       [ 0.6250631 ,  0.37191866],\n",
       "       [ 0.3459417 ,  0.2058387 ],\n",
       "       [-0.59377476, -0.35330179],\n",
       "       [ 0.172988  ,  0.10292955],\n",
       "       [-0.05628864, -0.03349229],\n",
       "       [ 1.20961393,  0.71973212],\n",
       "       [ 0.92100678,  0.54800804],\n",
       "       [ 0.1586405 ,  0.09439265],\n",
       "       [-0.8381201 , -0.49868966],\n",
       "       [ 0.20388862,  0.12131572],\n",
       "       [-0.50474262, -0.3003268 ],\n",
       "       [-0.5576126 , -0.33178495],\n",
       "       [-0.72969422, -0.4341752 ],\n",
       "       [-1.26705724, -0.75391145],\n",
       "       [-0.81449392, -0.48463185],\n",
       "       [ 0.72263408,  0.42997435],\n",
       "       [ 0.78594939,  0.46764758],\n",
       "       [ 0.82997493,  0.4938432 ],\n",
       "       [ 1.56701935,  0.93239184],\n",
       "       [-0.14030254, -0.08348138],\n",
       "       [-0.17204227, -0.10236683],\n",
       "       [-0.27097765, -0.16123435],\n",
       "       [-0.2933562 , -0.17454981],\n",
       "       [-1.04690592, -0.62291926],\n",
       "       [ 0.23992061,  0.14275511],\n",
       "       [ 0.47688283,  0.28374995]])"
      ]
     },
     "execution_count": 48,
     "metadata": {},
     "output_type": "execute_result"
    }
   ],
   "source": [
    "line_noised_original"
   ]
  },
  {
   "cell_type": "markdown",
   "metadata": {},
   "source": [
    "Podemos observar que el conjunto de datos recreado es sólo una linea, porque perdemos la varianza que explica el segundo componente principal."
   ]
  },
  {
   "cell_type": "code",
   "execution_count": 49,
   "metadata": {},
   "outputs": [
    {
     "data": {
      "image/png": "[encoded data removed]",
      "text/plain": [
       "<Figure size 432x288 with 1 Axes>"
      ]
     },
     "metadata": {
      "needs_background": "light"
     },
     "output_type": "display_data"
    }
   ],
   "source": [
    "plt.scatter(line_noised_original[:,0],line_noised_original[:,1])\n",
    "plt.ylim([-2.5,2.5])\n",
    "plt.xlim([-2.5,2.5])\n",
    "plt.show()"
   ]
  },
  {
   "cell_type": "markdown",
   "metadata": {},
   "source": [
    "MNIST es un conjunto de datos de imágenes de números manuscritos. Cada fila del conjunto de datos contiene los 64 pixeles de cada imagen junto con el número al cual pertenece."
   ]
  },
  {
   "cell_type": "code",
   "execution_count": 50,
   "metadata": {},
   "outputs": [
    {
     "data": {
      "text/html": [
       "<div>\n",
       "<style scoped>\n",
       "    .dataframe tbody tr th:only-of-type {\n",
       "        vertical-align: middle;\n",
       "    }\n",
       "\n",
       "    .dataframe tbody tr th {\n",
       "        vertical-align: top;\n",
       "    }\n",
       "\n",
       "    .dataframe thead th {\n",
       "        text-align: right;\n",
       "    }\n",
       "</style>\n",
       "<table border=\"1\" class=\"dataframe\">\n",
       "  <thead>\n",
       "    <tr style=\"text-align: right;\">\n",
       "      <th></th>\n",
       "      <th>pixel_0_0</th>\n",
       "      <th>pixel_0_1</th>\n",
       "      <th>pixel_0_2</th>\n",
       "      <th>pixel_0_3</th>\n",
       "      <th>pixel_0_4</th>\n",
       "      <th>pixel_0_5</th>\n",
       "      <th>pixel_0_6</th>\n",
       "      <th>pixel_0_7</th>\n",
       "      <th>pixel_1_0</th>\n",
       "      <th>pixel_1_1</th>\n",
       "      <th>...</th>\n",
       "      <th>pixel_6_7</th>\n",
       "      <th>pixel_7_0</th>\n",
       "      <th>pixel_7_1</th>\n",
       "      <th>pixel_7_2</th>\n",
       "      <th>pixel_7_3</th>\n",
       "      <th>pixel_7_4</th>\n",
       "      <th>pixel_7_5</th>\n",
       "      <th>pixel_7_6</th>\n",
       "      <th>pixel_7_7</th>\n",
       "      <th>label</th>\n",
       "    </tr>\n",
       "  </thead>\n",
       "  <tbody>\n",
       "    <tr>\n",
       "      <th>0</th>\n",
       "      <td>0.0</td>\n",
       "      <td>0.0</td>\n",
       "      <td>5.0</td>\n",
       "      <td>13.0</td>\n",
       "      <td>9.0</td>\n",
       "      <td>1.0</td>\n",
       "      <td>0.0</td>\n",
       "      <td>0.0</td>\n",
       "      <td>0.0</td>\n",
       "      <td>0.0</td>\n",
       "      <td>...</td>\n",
       "      <td>0.0</td>\n",
       "      <td>0.0</td>\n",
       "      <td>0.0</td>\n",
       "      <td>6.0</td>\n",
       "      <td>13.0</td>\n",
       "      <td>10.0</td>\n",
       "      <td>0.0</td>\n",
       "      <td>0.0</td>\n",
       "      <td>0.0</td>\n",
       "      <td>0</td>\n",
       "    </tr>\n",
       "    <tr>\n",
       "      <th>1</th>\n",
       "      <td>0.0</td>\n",
       "      <td>0.0</td>\n",
       "      <td>0.0</td>\n",
       "      <td>12.0</td>\n",
       "      <td>13.0</td>\n",
       "      <td>5.0</td>\n",
       "      <td>0.0</td>\n",
       "      <td>0.0</td>\n",
       "      <td>0.0</td>\n",
       "      <td>0.0</td>\n",
       "      <td>...</td>\n",
       "      <td>0.0</td>\n",
       "      <td>0.0</td>\n",
       "      <td>0.0</td>\n",
       "      <td>0.0</td>\n",
       "      <td>11.0</td>\n",
       "      <td>16.0</td>\n",
       "      <td>10.0</td>\n",
       "      <td>0.0</td>\n",
       "      <td>0.0</td>\n",
       "      <td>1</td>\n",
       "    </tr>\n",
       "    <tr>\n",
       "      <th>2</th>\n",
       "      <td>0.0</td>\n",
       "      <td>0.0</td>\n",
       "      <td>0.0</td>\n",
       "      <td>4.0</td>\n",
       "      <td>15.0</td>\n",
       "      <td>12.0</td>\n",
       "      <td>0.0</td>\n",
       "      <td>0.0</td>\n",
       "      <td>0.0</td>\n",
       "      <td>0.0</td>\n",
       "      <td>...</td>\n",
       "      <td>0.0</td>\n",
       "      <td>0.0</td>\n",
       "      <td>0.0</td>\n",
       "      <td>0.0</td>\n",
       "      <td>3.0</td>\n",
       "      <td>11.0</td>\n",
       "      <td>16.0</td>\n",
       "      <td>9.0</td>\n",
       "      <td>0.0</td>\n",
       "      <td>2</td>\n",
       "    </tr>\n",
       "    <tr>\n",
       "      <th>3</th>\n",
       "      <td>0.0</td>\n",
       "      <td>0.0</td>\n",
       "      <td>7.0</td>\n",
       "      <td>15.0</td>\n",
       "      <td>13.0</td>\n",
       "      <td>1.0</td>\n",
       "      <td>0.0</td>\n",
       "      <td>0.0</td>\n",
       "      <td>0.0</td>\n",
       "      <td>8.0</td>\n",
       "      <td>...</td>\n",
       "      <td>0.0</td>\n",
       "      <td>0.0</td>\n",
       "      <td>0.0</td>\n",
       "      <td>7.0</td>\n",
       "      <td>13.0</td>\n",
       "      <td>13.0</td>\n",
       "      <td>9.0</td>\n",
       "      <td>0.0</td>\n",
       "      <td>0.0</td>\n",
       "      <td>3</td>\n",
       "    </tr>\n",
       "    <tr>\n",
       "      <th>4</th>\n",
       "      <td>0.0</td>\n",
       "      <td>0.0</td>\n",
       "      <td>0.0</td>\n",
       "      <td>1.0</td>\n",
       "      <td>11.0</td>\n",
       "      <td>0.0</td>\n",
       "      <td>0.0</td>\n",
       "      <td>0.0</td>\n",
       "      <td>0.0</td>\n",
       "      <td>0.0</td>\n",
       "      <td>...</td>\n",
       "      <td>0.0</td>\n",
       "      <td>0.0</td>\n",
       "      <td>0.0</td>\n",
       "      <td>0.0</td>\n",
       "      <td>2.0</td>\n",
       "      <td>16.0</td>\n",
       "      <td>4.0</td>\n",
       "      <td>0.0</td>\n",
       "      <td>0.0</td>\n",
       "      <td>4</td>\n",
       "    </tr>\n",
       "  </tbody>\n",
       "</table>\n",
       "<p>5 rows × 65 columns</p>\n",
       "</div>"
      ],
      "text/plain": [
       "   pixel_0_0  pixel_0_1  pixel_0_2  pixel_0_3  pixel_0_4  pixel_0_5  \\\n",
       "0        0.0        0.0        5.0       13.0        9.0        1.0   \n",
       "1        0.0        0.0        0.0       12.0       13.0        5.0   \n",
       "2        0.0        0.0        0.0        4.0       15.0       12.0   \n",
       "3        0.0        0.0        7.0       15.0       13.0        1.0   \n",
       "4        0.0        0.0        0.0        1.0       11.0        0.0   \n",
       "\n",
       "   pixel_0_6  pixel_0_7  pixel_1_0  pixel_1_1  ...  pixel_6_7  pixel_7_0  \\\n",
       "0        0.0        0.0        0.0        0.0  ...        0.0        0.0   \n",
       "1        0.0        0.0        0.0        0.0  ...        0.0        0.0   \n",
       "2        0.0        0.0        0.0        0.0  ...        0.0        0.0   \n",
       "3        0.0        0.0        0.0        8.0  ...        0.0        0.0   \n",
       "4        0.0        0.0        0.0        0.0  ...        0.0        0.0   \n",
       "\n",
       "   pixel_7_1  pixel_7_2  pixel_7_3  pixel_7_4  pixel_7_5  pixel_7_6  \\\n",
       "0        0.0        6.0       13.0       10.0        0.0        0.0   \n",
       "1        0.0        0.0       11.0       16.0       10.0        0.0   \n",
       "2        0.0        0.0        3.0       11.0       16.0        9.0   \n",
       "3        0.0        7.0       13.0       13.0        9.0        0.0   \n",
       "4        0.0        0.0        2.0       16.0        4.0        0.0   \n",
       "\n",
       "   pixel_7_7  label  \n",
       "0        0.0      0  \n",
       "1        0.0      1  \n",
       "2        0.0      2  \n",
       "3        0.0      3  \n",
       "4        0.0      4  \n",
       "\n",
       "[5 rows x 65 columns]"
      ]
     },
     "execution_count": 50,
     "metadata": {},
     "output_type": "execute_result"
    }
   ],
   "source": [
    "mnist = pd.read_csv(\"data/mnist.csv\")\n",
    "mnist.head()"
   ]
  },
  {
   "cell_type": "markdown",
   "metadata": {},
   "source": [
    "El conjunto de datos contiene 1797 imágenes y 65 atributos (pixeles + etiqueta)"
   ]
  },
  {
   "cell_type": "code",
   "execution_count": 51,
   "metadata": {},
   "outputs": [
    {
     "data": {
      "text/plain": [
       "(1797, 65)"
      ]
     },
     "execution_count": 51,
     "metadata": {},
     "output_type": "execute_result"
    }
   ],
   "source": [
    "mnist.shape"
   ]
  },
  {
   "cell_type": "markdown",
   "metadata": {},
   "source": [
    "Así se ve el conjunto de datos."
   ]
  },
  {
   "cell_type": "code",
   "execution_count": 52,
   "metadata": {},
   "outputs": [
    {
     "data": {
      "text/plain": [
       "array([ 0.,  0.,  0., 12., 13.,  5.,  0.,  0.,  0.,  0.,  0., 11., 16.,\n",
       "        9.,  0.,  0.,  0.,  0.,  3., 15., 16.,  6.,  0.,  0.,  0.,  7.,\n",
       "       15., 16., 16.,  2.,  0.,  0.,  0.,  0.,  1., 16., 16.,  3.,  0.,\n",
       "        0.,  0.,  0.,  1., 16., 16.,  6.,  0.,  0.,  0.,  0.,  1., 16.,\n",
       "       16.,  6.,  0.,  0.,  0.,  0.,  0., 11., 16., 10.,  0.,  0.])"
      ]
     },
     "execution_count": 52,
     "metadata": {},
     "output_type": "execute_result"
    },
    {
     "data": {
      "image/png": "[encoded data removed]",
      "text/plain": [
       "<Figure size 648x648 with 64 Axes>"
      ]
     },
     "metadata": {},
     "output_type": "display_data"
    }
   ],
   "source": [
    "fig,axs = plt.subplots(8,8,figsize=(9, 9),subplot_kw={'xticks':[], 'yticks':[]})\n",
    "\n",
    "for i,ax in enumerate(axs.flat):\n",
    "    ax.imshow(\n",
    "        mnist.iloc[i,:-1].values.reshape(8,-1),\n",
    "        cmap=\"gray\"\n",
    "    )\n",
    "    \n",
    "\n",
    "mnist.iloc[1,:-1].values"
   ]
  },
  {
   "cell_type": "markdown",
   "metadata": {},
   "source": [
    "Ajustemos un PCA sobre el conjunto de datos."
   ]
  },
  {
   "cell_type": "code",
   "execution_count": 53,
   "metadata": {},
   "outputs": [
    {
     "data": {
      "text/plain": [
       "PCA()"
      ]
     },
     "execution_count": 53,
     "metadata": {},
     "output_type": "execute_result"
    }
   ],
   "source": [
    "pca_mnist = sklearn.decomposition.PCA()\n",
    "pca_mnist.fit(mnist.iloc[:,:-1])"
   ]
  },
  {
   "cell_type": "markdown",
   "metadata": {},
   "source": [
    "Obtenemos una matriz con 64 componentes."
   ]
  },
  {
   "cell_type": "code",
   "execution_count": 54,
   "metadata": {},
   "outputs": [
    {
     "data": {
      "text/plain": [
       "(64, 64)"
      ]
     },
     "execution_count": 54,
     "metadata": {},
     "output_type": "execute_result"
    }
   ],
   "source": [
    "pca_mnist.components_.shape"
   ]
  },
  {
   "cell_type": "markdown",
   "metadata": {},
   "source": [
    "Así se ve el primer componente."
   ]
  },
  {
   "cell_type": "code",
   "execution_count": 55,
   "metadata": {},
   "outputs": [
    {
     "data": {
      "text/plain": [
       "array([-1.77484909e-19, -1.73094651e-02, -2.23428835e-01, -1.35913304e-01,\n",
       "       -3.30323092e-02, -9.66340844e-02, -8.32943805e-03,  2.26900082e-03,\n",
       "       -3.20516495e-04, -1.19308905e-01, -2.44451676e-01,  1.48512745e-01,\n",
       "       -4.67319410e-02, -2.17740744e-01, -1.48136776e-02,  4.47779518e-03,\n",
       "       -4.94136398e-05, -7.95419375e-02,  8.33951454e-02,  2.15915342e-01,\n",
       "       -1.72126801e-01, -1.63712098e-01,  2.86444452e-02,  4.23251803e-03,\n",
       "        9.85488574e-05,  6.42319144e-02,  2.54093316e-01, -3.56771026e-02,\n",
       "       -2.09462569e-01, -4.31311420e-02,  5.13118688e-02,  2.13422732e-04,\n",
       "       -0.00000000e+00,  1.59950883e-01,  3.68690774e-01,  1.64406827e-01,\n",
       "        8.52007908e-02,  3.72982855e-02,  2.15866980e-02, -0.00000000e+00,\n",
       "        1.28865585e-03,  1.06945287e-01,  3.03067457e-01,  2.47813041e-01,\n",
       "        2.09637296e-01,  1.22325219e-02, -3.69458497e-02,  1.61485028e-03,\n",
       "        6.93023548e-04, -8.35144239e-03, -5.58598986e-02,  9.30534169e-02,\n",
       "        1.07387720e-01, -1.37734565e-01, -6.32879466e-02,  9.61671077e-04,\n",
       "        9.55079131e-06, -1.40786840e-02, -2.35675488e-01, -1.41225588e-01,\n",
       "       -9.15964553e-03, -8.94184677e-02, -3.65977111e-02, -1.14684954e-02])"
      ]
     },
     "execution_count": 55,
     "metadata": {},
     "output_type": "execute_result"
    }
   ],
   "source": [
    "pca_mnist.components_[0]"
   ]
  },
  {
   "cell_type": "code",
   "execution_count": 56,
   "metadata": {},
   "outputs": [
    {
     "data": {
      "image/png": "[encoded data removed]",
      "text/plain": [
       "<Figure size 648x648 with 64 Axes>"
      ]
     },
     "metadata": {},
     "output_type": "display_data"
    }
   ],
   "source": [
    "fig,axs = plt.subplots(8,8,figsize=(9, 9),subplot_kw={'xticks':[], 'yticks':[]})\n",
    "\n",
    "for i,ax in enumerate(axs.flat):\n",
    "    ax.imshow(\n",
    "        pca_mnist.components_[i].reshape(8,-1),\n",
    "        cmap=\"gray\"\n",
    "    )"
   ]
  },
  {
   "cell_type": "markdown",
   "metadata": {},
   "source": [
    "Acá podemos ver cuánta varianza explica cada uno de los 64 componentes."
   ]
  },
  {
   "cell_type": "code",
   "execution_count": 57,
   "metadata": {},
   "outputs": [
    {
     "data": {
      "text/plain": [
       "array([1.48905936e-01, 1.36187712e-01, 1.17945938e-01, 8.40997942e-02,\n",
       "       5.78241466e-02, 4.91691032e-02, 4.31598701e-02, 3.66137258e-02,\n",
       "       3.35324810e-02, 3.07880621e-02, 2.37234084e-02, 2.27269657e-02,\n",
       "       1.82186331e-02, 1.77385494e-02, 1.46710109e-02, 1.40971560e-02,\n",
       "       1.31858920e-02, 1.24813782e-02, 1.01771796e-02, 9.05617439e-03,\n",
       "       8.89538461e-03, 7.97123157e-03, 7.67493255e-03, 7.22903569e-03,\n",
       "       6.95888851e-03, 5.96081458e-03, 5.75614688e-03, 5.15157582e-03,\n",
       "       4.89539777e-03, 4.28887968e-03, 3.73606048e-03, 3.53274223e-03,\n",
       "       3.36683986e-03, 3.28029851e-03, 3.08320884e-03, 2.93778629e-03,\n",
       "       2.56588609e-03, 2.27742397e-03, 2.22277922e-03, 2.11430393e-03,\n",
       "       1.89909062e-03, 1.58652907e-03, 1.51159934e-03, 1.40578764e-03,\n",
       "       1.16622290e-03, 1.07492521e-03, 9.64053065e-04, 7.74630271e-04,\n",
       "       5.57211553e-04, 4.04330693e-04, 2.09916327e-04, 8.24797098e-05,\n",
       "       5.25149980e-05, 5.05243719e-05, 3.29961363e-05, 1.24365445e-05,\n",
       "       7.04827911e-06, 3.01432139e-06, 1.06230800e-06, 5.50074587e-07,\n",
       "       3.42905702e-07, 9.50687638e-34, 9.50687638e-34, 9.36179501e-34])"
      ]
     },
     "execution_count": 57,
     "metadata": {},
     "output_type": "execute_result"
    }
   ],
   "source": [
    "pca_mnist.explained_variance_ratio_"
   ]
  },
  {
   "cell_type": "markdown",
   "metadata": {},
   "source": [
    "Visualizamos la suma acumulada de las varianzas explicadas por cada componente."
   ]
  },
  {
   "cell_type": "code",
   "execution_count": 58,
   "metadata": {},
   "outputs": [
    {
     "data": {
      "text/plain": [
       "[<matplotlib.lines.Line2D at 0x13e4b4e80>]"
      ]
     },
     "execution_count": 58,
     "metadata": {},
     "output_type": "execute_result"
    },
    {
     "data": {
      "image/png": "[encoded data removed]",
      "text/plain": [
       "<Figure size 432x288 with 1 Axes>"
      ]
     },
     "metadata": {
      "needs_background": "light"
     },
     "output_type": "display_data"
    }
   ],
   "source": [
    "plt.plot(\n",
    "    range(len(pca_mnist.explained_variance_ratio_)),\n",
    "    np.cumsum(pca_mnist.explained_variance_ratio_)\n",
    ")"
   ]
  },
  {
   "cell_type": "markdown",
   "metadata": {},
   "source": [
    "Ajustemos un PCA de sólo 2 componentes para visualizar el conjunto de datos en un gráfico de dispersión."
   ]
  },
  {
   "cell_type": "code",
   "execution_count": 59,
   "metadata": {},
   "outputs": [
    {
     "data": {
      "text/plain": [
       "(1797, 2)"
      ]
     },
     "execution_count": 59,
     "metadata": {},
     "output_type": "execute_result"
    }
   ],
   "source": [
    "pca_mnist_2d = sklearn.decomposition.PCA(2)\n",
    "mnist_2d=pca_mnist_2d.fit_transform(mnist.iloc[:,:-1])\n",
    "mnist_2d.shape"
   ]
  },
  {
   "cell_type": "markdown",
   "metadata": {},
   "source": [
    "Cada uno de los números tienden a acumularse juntos"
   ]
  },
  {
   "cell_type": "code",
   "execution_count": 60,
   "metadata": {},
   "outputs": [
    {
     "data": {
      "text/plain": [
       "<matplotlib.colorbar.Colorbar at 0x13e60e970>"
      ]
     },
     "execution_count": 60,
     "metadata": {},
     "output_type": "execute_result"
    },
    {
     "data": {
      "image/png": "[encoded data removed]",
      "text/plain": [
       "<Figure size 432x288 with 2 Axes>"
      ]
     },
     "metadata": {
      "needs_background": "light"
     },
     "output_type": "display_data"
    }
   ],
   "source": [
    "plt.scatter(\n",
    "    mnist_2d[:,0],\n",
    "    mnist_2d[:,1],\n",
    "    c=mnist.label,\n",
    "    cmap='tab10'\n",
    ")\n",
    "plt.colorbar()"
   ]
  },
  {
   "cell_type": "code",
   "execution_count": 61,
   "metadata": {},
   "outputs": [
    {
     "data": {
      "image/png": "[encoded data removed]",
      "text/plain": [
       "<Figure size 432x288 with 2 Axes>"
      ]
     },
     "metadata": {
      "needs_background": "light"
     },
     "output_type": "display_data"
    }
   ],
   "source": [
    "fig, axs = plt.subplots(2)\n",
    "\n",
    "axs[0].imshow(\n",
    "    mnist.iloc[0,:-1].values.reshape(8,-1),\n",
    "    cmap=\"gray\"\n",
    ")\n",
    "axs[0].set_title(\"Original image\")\n",
    "\n",
    "axs[1].imshow(\n",
    "    pca_mnist_2d.inverse_transform(mnist_2d)[0].reshape(8,-1),\n",
    "    cmap=\"gray\"\n",
    ")\n",
    "axs[1].set_title(\"Image using 2 principal components\")\n",
    "fig.tight_layout()"
   ]
  },
  {
   "cell_type": "code",
   "execution_count": 34,
   "metadata": {},
   "outputs": [],
   "source": [
    "pca_95p = sklearn.decomposition.PCA(0.95)\n",
    "mnist_95p = pca_95p.fit_transform(mnist.iloc[:,:-1])"
   ]
  },
  {
   "cell_type": "code",
   "execution_count": 35,
   "metadata": {},
   "outputs": [
    {
     "data": {
      "text/plain": [
       "(29, 64)"
      ]
     },
     "execution_count": 35,
     "metadata": {},
     "output_type": "execute_result"
    }
   ],
   "source": [
    "pca_95p.components_.shape"
   ]
  },
  {
   "cell_type": "code",
   "execution_count": 36,
   "metadata": {},
   "outputs": [
    {
     "data": {
      "image/png": "[encoded data removed]",
      "text/plain": [
       "<Figure size 432x288 with 2 Axes>"
      ]
     },
     "metadata": {
      "needs_background": "light"
     },
     "output_type": "display_data"
    }
   ],
   "source": [
    "fig, axs = plt.subplots(2)\n",
    "\n",
    "axs[0].imshow(\n",
    "    mnist.iloc[0,:-1].values.reshape(8,-1),\n",
    "    cmap=\"gray\"\n",
    ")\n",
    "axs[0].set_title(\"Original image\")\n",
    "\n",
    "axs[1].imshow(\n",
    "    pca_95p.inverse_transform(mnist_95p)[0].reshape(8,-1),\n",
    "    cmap=\"gray\"\n",
    ")\n",
    "axs[1].set_title(\"Image using 29 principal components\")\n",
    "fig.tight_layout()"
   ]
  },
  {
   "cell_type": "markdown",
   "metadata": {},
   "source": [
    "## t-distributed stochastic neighbor embedding"
   ]
  },
  {
   "cell_type": "markdown",
   "metadata": {},
   "source": [
    "Sklearn en la clase sklearn.manifold.TSNE implementa este método y la forma de utilización es exactamente igual al PCA."
   ]
  },
  {
   "cell_type": "markdown",
   "metadata": {},
   "source": [
    "Ajustamos un ebmedding de 2 dimensiones para visualización."
   ]
  },
  {
   "cell_type": "code",
   "execution_count": 37,
   "metadata": {},
   "outputs": [
    {
     "data": {
      "text/plain": [
       "(1797, 2)"
      ]
     },
     "execution_count": 37,
     "metadata": {},
     "output_type": "execute_result"
    }
   ],
   "source": [
    "tsne_mnist_2d = sklearn.manifold.TSNE(2)\n",
    "mnist_2d_tsne=tsne_mnist_2d.fit_transform(mnist.iloc[:,:-1])\n",
    "mnist_2d_tsne.shape"
   ]
  },
  {
   "cell_type": "markdown",
   "metadata": {},
   "source": [
    "Este método agrupa de mucho mejor manera los números del conjunto de datos MNIST."
   ]
  },
  {
   "cell_type": "code",
   "execution_count": 38,
   "metadata": {},
   "outputs": [
    {
     "data": {
      "image/png": "[encoded data removed]",
      "text/plain": [
       "<Figure size 432x288 with 2 Axes>"
      ]
     },
     "metadata": {
      "needs_background": "light"
     },
     "output_type": "display_data"
    }
   ],
   "source": [
    "plt.scatter(\n",
    "    mnist_2d_tsne[:,0],\n",
    "    mnist_2d_tsne[:,1],\n",
    "    c=mnist.label,\n",
    "    cmap='tab10'\n",
    ")\n",
    "plt.colorbar()\n",
    "plt.show()"
   ]
  },
  {
   "cell_type": "markdown",
   "metadata": {},
   "source": [
    "Uno de los hiperparámetros que podemos ajustar en este método es la perplexity, parámetro el cual modifica la importancia de la información global respecto a la información local."
   ]
  },
  {
   "cell_type": "code",
   "execution_count": 39,
   "metadata": {},
   "outputs": [
    {
     "data": {
      "image/png": "[encoded data removed]",
      "text/plain": [
       "<Figure size 432x288 with 4 Axes>"
      ]
     },
     "metadata": {
      "needs_background": "light"
     },
     "output_type": "display_data"
    }
   ],
   "source": [
    "fig, axs = plt.subplots(2,2)\n",
    "perplexities = np.linspace(5,30, len(axs.reshape(-1)))\n",
    "perplexities\n",
    "for i,(perplexity,ax) in enumerate(zip(perplexities, axs.reshape(-1))):\n",
    "    tsne_current = sklearn.manifold.TSNE(2, perplexity=perplexity, random_state=11)\n",
    "    mnist_current = tsne_current.fit_transform(mnist.iloc[:,:-1])\n",
    "    ax.scatter(\n",
    "      mnist_current[:,0],\n",
    "      mnist_current[:,1],\n",
    "      c=mnist.label,\n",
    "      cmap='tab10'\n",
    "    )\n",
    "    ax.set_title(f\"perplexity = {perplexity:.2f}\")\n",
    "    # ax.colorbar()\n",
    "plt.tight_layout()\n",
    "plt.show()"
   ]
  },
  {
   "cell_type": "code",
   "execution_count": null,
   "metadata": {},
   "outputs": [],
   "source": []
  }
 ],
 "metadata": {
  "kernelspec": {
   "display_name": "Python 3 (ipykernel)",
   "language": "python",
   "name": "python3"
  },
  "language_info": {
   "codemirror_mode": {
    "name": "ipython",
    "version": 3
   },
   "file_extension": ".py",
   "mimetype": "text/x-python",
   "name": "python",
   "nbconvert_exporter": "python",
   "pygments_lexer": "ipython3",
   "version": "3.9.7"
  }
 },
 "nbformat": 4,
 "nbformat_minor": 4
}
